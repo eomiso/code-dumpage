{
 "cells": [
  {
   "cell_type": "code",
   "execution_count": 16,
   "id": "e3470dad",
   "metadata": {},
   "outputs": [
    {
     "name": "stdout",
     "output_type": "stream",
     "text": [
      "A: \n",
      "array([[ 7,  3, -1],\n",
      "       [ 3,  8,  1],\n",
      "       [-1,  1,  4],\n",
      "       [ 2, -4, -1]])\n",
      "P: \n",
      "array([[1., 0., 0., 0.],\n",
      "       [0., 1., 0., 0.],\n",
      "       [0., 0., 1., 0.],\n",
      "       [0., 0., 0., 1.]])\n",
      "L: \n",
      "array([[ 1.        ,  0.        ,  0.        ],\n",
      "       [ 0.42857143,  1.        ,  0.        ],\n",
      "       [-0.14285714,  0.21276596,  1.        ],\n",
      "       [ 0.28571429, -0.72340426,  0.08982036]])\n",
      "U: \n",
      "array([[ 7.        ,  3.        , -1.        ],\n",
      "       [ 0.        ,  6.71428571,  1.42857143],\n",
      "       [ 0.        ,  0.        ,  3.55319149]])\n"
     ]
    }
   ],
   "source": [
    "# LU Decomposition\n",
    "\n",
    "import pprint\n",
    "import numpy as np\n",
    "import scipy\n",
    "\n",
    "A = np.array([ [7, 3, -1], [3, 8, 1], [-1, 1, 4], [2, -4, -1] ])\n",
    "\n",
    "P, L, U = scipy.linalg.lu(A)\n",
    "\n",
    "print(\"A: \")\n",
    "pprint.pprint(A)\n",
    "\n",
    "print(\"P: \")\n",
    "pprint.pprint(P)\n",
    "\n",
    "print(\"L: \")\n",
    "pprint.pprint(L)\n",
    "\n",
    "print(\"U: \")\n",
    "pprint.pprint(U)\n"
   ]
  },
  {
   "cell_type": "code",
   "execution_count": 75,
   "id": "d5631feb",
   "metadata": {},
   "outputs": [],
   "source": [
    "def mult_matrix(M, N):\n",
    "    \"\"\"Multiply square matrices of same dimension M and N\"\"\"\n",
    "    assert len(M[0]) == len(N)\n",
    "    # Converts N into a list of tuples of columns (You have to save them in the memory)\n",
    "    tuple_N = list(zip(*N))\n",
    "    \n",
    "    # Nested list comprehension to calculate matrix multiplication                                                                                                                                                                                     \n",
    "    return [[sum(el_m * el_n for el_m, el_n in zip(row_m, col_n)) for col_n in tuple_N] for row_m in M]\n",
    "\n",
    "M = [[1, 2], [-1, 2]]\n",
    "N = [[3, 2]]"
   ]
  },
  {
   "cell_type": "code",
   "execution_count": 76,
   "id": "05ed5bdc",
   "metadata": {},
   "outputs": [
    {
     "ename": "AssertionError",
     "evalue": "",
     "output_type": "error",
     "traceback": [
      "\u001b[0;31m---------------------------------------------------------------------------\u001b[0m",
      "\u001b[0;31mAssertionError\u001b[0m                            Traceback (most recent call last)",
      "Input \u001b[0;32mIn [76]\u001b[0m, in \u001b[0;36m<cell line: 1>\u001b[0;34m()\u001b[0m\n\u001b[0;32m----> 1\u001b[0m \u001b[43mmult_matrix\u001b[49m\u001b[43m(\u001b[49m\u001b[43mM\u001b[49m\u001b[43m,\u001b[49m\u001b[43m \u001b[49m\u001b[43mN\u001b[49m\u001b[43m)\u001b[49m\n",
      "Input \u001b[0;32mIn [75]\u001b[0m, in \u001b[0;36mmult_matrix\u001b[0;34m(M, N)\u001b[0m\n\u001b[1;32m      1\u001b[0m \u001b[38;5;28;01mdef\u001b[39;00m \u001b[38;5;21mmult_matrix\u001b[39m(M, N):\n\u001b[1;32m      2\u001b[0m     \u001b[38;5;124;03m\"\"\"Multiply square matrices of same dimension M and N\"\"\"\u001b[39;00m\n\u001b[0;32m----> 3\u001b[0m     \u001b[38;5;28;01massert\u001b[39;00m \u001b[38;5;28mlen\u001b[39m(M[\u001b[38;5;241m0\u001b[39m]) \u001b[38;5;241m==\u001b[39m \u001b[38;5;28mlen\u001b[39m(N)\n\u001b[1;32m      4\u001b[0m     \u001b[38;5;66;03m# Converts N into a list of tuples of columns \u001b[39;00m\n\u001b[1;32m      5\u001b[0m     tuple_N \u001b[38;5;241m=\u001b[39m \u001b[38;5;28mlist\u001b[39m(\u001b[38;5;28mzip\u001b[39m(\u001b[38;5;241m*\u001b[39mN))\n",
      "\u001b[0;31mAssertionError\u001b[0m: "
     ]
    }
   ],
   "source": [
    "mult_matrix(M, N)"
   ]
  },
  {
   "cell_type": "code",
   "execution_count": 79,
   "id": "a2846844",
   "metadata": {},
   "outputs": [
    {
     "ename": "LinAlgError",
     "evalue": "Matrix is not positive definite",
     "output_type": "error",
     "traceback": [
      "\u001b[0;31m---------------------------------------------------------------------------\u001b[0m",
      "\u001b[0;31mLinAlgError\u001b[0m                               Traceback (most recent call last)",
      "Input \u001b[0;32mIn [79]\u001b[0m, in \u001b[0;36m<cell line: 10>\u001b[0;34m()\u001b[0m\n\u001b[1;32m      6\u001b[0m \u001b[38;5;28;01mimport\u001b[39;00m \u001b[38;5;21;01mscipy\u001b[39;00m\n\u001b[1;32m      8\u001b[0m A \u001b[38;5;241m=\u001b[39m np\u001b[38;5;241m.\u001b[39marray([ [\u001b[38;5;241m7\u001b[39m, \u001b[38;5;241m3\u001b[39m, \u001b[38;5;241m-\u001b[39m\u001b[38;5;241m1\u001b[39m, \u001b[38;5;241m4\u001b[39m], [\u001b[38;5;241m3\u001b[39m, \u001b[38;5;241m8\u001b[39m, \u001b[38;5;241m1\u001b[39m, \u001b[38;5;241m2\u001b[39m], [\u001b[38;5;241m-\u001b[39m\u001b[38;5;241m1\u001b[39m, \u001b[38;5;241m1\u001b[39m, \u001b[38;5;241m4\u001b[39m, \u001b[38;5;241m1\u001b[39m], [\u001b[38;5;241m2\u001b[39m, \u001b[38;5;241m-\u001b[39m\u001b[38;5;241m4\u001b[39m, \u001b[38;5;241m-\u001b[39m\u001b[38;5;241m1\u001b[39m, \u001b[38;5;241m2\u001b[39m] ])\n\u001b[0;32m---> 10\u001b[0m P, L, U \u001b[38;5;241m=\u001b[39m \u001b[43mnp\u001b[49m\u001b[38;5;241;43m.\u001b[39;49m\u001b[43mlinalg\u001b[49m\u001b[38;5;241;43m.\u001b[39;49m\u001b[43mcholesky\u001b[49m\u001b[43m(\u001b[49m\u001b[43mA\u001b[49m\u001b[43m)\u001b[49m\n\u001b[1;32m     12\u001b[0m \u001b[38;5;28mprint\u001b[39m(\u001b[38;5;124m\"\u001b[39m\u001b[38;5;124mA: \u001b[39m\u001b[38;5;124m\"\u001b[39m)\n\u001b[1;32m     13\u001b[0m pprint\u001b[38;5;241m.\u001b[39mpprint(A)\n",
      "File \u001b[0;32m<__array_function__ internals>:180\u001b[0m, in \u001b[0;36mcholesky\u001b[0;34m(*args, **kwargs)\u001b[0m\n",
      "File \u001b[0;32m~/miniconda3/envs/math/lib/python3.9/site-packages/numpy/linalg/linalg.py:763\u001b[0m, in \u001b[0;36mcholesky\u001b[0;34m(a)\u001b[0m\n\u001b[1;32m    761\u001b[0m t, result_t \u001b[38;5;241m=\u001b[39m _commonType(a)\n\u001b[1;32m    762\u001b[0m signature \u001b[38;5;241m=\u001b[39m \u001b[38;5;124m'\u001b[39m\u001b[38;5;124mD->D\u001b[39m\u001b[38;5;124m'\u001b[39m \u001b[38;5;28;01mif\u001b[39;00m isComplexType(t) \u001b[38;5;28;01melse\u001b[39;00m \u001b[38;5;124m'\u001b[39m\u001b[38;5;124md->d\u001b[39m\u001b[38;5;124m'\u001b[39m\n\u001b[0;32m--> 763\u001b[0m r \u001b[38;5;241m=\u001b[39m \u001b[43mgufunc\u001b[49m\u001b[43m(\u001b[49m\u001b[43ma\u001b[49m\u001b[43m,\u001b[49m\u001b[43m \u001b[49m\u001b[43msignature\u001b[49m\u001b[38;5;241;43m=\u001b[39;49m\u001b[43msignature\u001b[49m\u001b[43m,\u001b[49m\u001b[43m \u001b[49m\u001b[43mextobj\u001b[49m\u001b[38;5;241;43m=\u001b[39;49m\u001b[43mextobj\u001b[49m\u001b[43m)\u001b[49m\n\u001b[1;32m    764\u001b[0m \u001b[38;5;28;01mreturn\u001b[39;00m wrap(r\u001b[38;5;241m.\u001b[39mastype(result_t, copy\u001b[38;5;241m=\u001b[39m\u001b[38;5;28;01mFalse\u001b[39;00m))\n",
      "File \u001b[0;32m~/miniconda3/envs/math/lib/python3.9/site-packages/numpy/linalg/linalg.py:91\u001b[0m, in \u001b[0;36m_raise_linalgerror_nonposdef\u001b[0;34m(err, flag)\u001b[0m\n\u001b[1;32m     90\u001b[0m \u001b[38;5;28;01mdef\u001b[39;00m \u001b[38;5;21m_raise_linalgerror_nonposdef\u001b[39m(err, flag):\n\u001b[0;32m---> 91\u001b[0m     \u001b[38;5;28;01mraise\u001b[39;00m LinAlgError(\u001b[38;5;124m\"\u001b[39m\u001b[38;5;124mMatrix is not positive definite\u001b[39m\u001b[38;5;124m\"\u001b[39m)\n",
      "\u001b[0;31mLinAlgError\u001b[0m: Matrix is not positive definite"
     ]
    }
   ],
   "source": [
    "# Choleski's decomposition\n",
    "# LU Decomposition\n",
    "\n",
    "import pprint\n",
    "import numpy as np\n",
    "import scipy\n",
    "\n",
    "A = np.array([ [7, 3, -1, 4], [3, 8, 1, 2], [-1, 1, 4, 1], [2, -4, -1, 2] ])\n",
    "\n",
    "P, L, U = np.linalg.cholesky(A)\n",
    "\n",
    "print(\"A: \")\n",
    "pprint.pprint(A)\n",
    "\n",
    "print(\"P: \")\n",
    "pprint.pprint(P)\n",
    "\n",
    "print(\"L: \")\n",
    "pprint.pprint(L)\n",
    "\n",
    "print(\"U: \")\n",
    "pprint.pprint(U)"
   ]
  },
  {
   "cell_type": "markdown",
   "id": "ba22ba0d",
   "metadata": {},
   "source": [
    "# 기본행 연산 numpy로 하기"
   ]
  },
  {
   "cell_type": "code",
   "execution_count": 36,
   "id": "bfe101df",
   "metadata": {},
   "outputs": [],
   "source": [
    "import numpy as np\n",
    "import copy\n",
    "import fractions"
   ]
  },
  {
   "cell_type": "code",
   "execution_count": 2,
   "id": "3f55174a",
   "metadata": {},
   "outputs": [],
   "source": [
    "A = np.array([ [1, 1, 0], [1, 0, 0], [1, 2, 100]])"
   ]
  },
  {
   "cell_type": "code",
   "execution_count": 3,
   "id": "de396ef0",
   "metadata": {},
   "outputs": [],
   "source": [
    "A[1] = A[0] * (-1) + A[1]"
   ]
  },
  {
   "cell_type": "code",
   "execution_count": 4,
   "id": "f700f2d0",
   "metadata": {},
   "outputs": [
    {
     "data": {
      "text/plain": [
       "array([[  1,   1,   0],\n",
       "       [  0,  -1,   0],\n",
       "       [  1,   2, 100]])"
      ]
     },
     "execution_count": 4,
     "metadata": {},
     "output_type": "execute_result"
    }
   ],
   "source": [
    "A"
   ]
  },
  {
   "cell_type": "code",
   "execution_count": 27,
   "id": "4ff395aa",
   "metadata": {},
   "outputs": [
    {
     "data": {
      "text/plain": [
       "array([[0, 1, 0, 1, 0],\n",
       "       [1, 0, 1, 0, 0],\n",
       "       [0, 1, 1, 0, 0],\n",
       "       [0, 0, 0, 1, 1],\n",
       "       [0, 0, 0, 0, 1]])"
      ]
     },
     "execution_count": 27,
     "metadata": {},
     "output_type": "execute_result"
    }
   ],
   "source": [
    "A = np.array([ [0, 1, 0, 1, 0], [1, 0, 1, 0, 0], [0, 1, 1, 0, 0], [0, 0, 0, 1, 1], [0, 0, 0, 0, 1] ])\n",
    "A"
   ]
  },
  {
   "cell_type": "code",
   "execution_count": 28,
   "id": "8486bf5d",
   "metadata": {},
   "outputs": [
    {
     "data": {
      "text/plain": [
       "array([[1, 0, 1, 0, 0],\n",
       "       [0, 1, 0, 1, 0],\n",
       "       [0, 1, 1, 0, 0],\n",
       "       [0, 0, 0, 1, 0],\n",
       "       [0, 0, 0, 0, 1]])"
      ]
     },
     "execution_count": 28,
     "metadata": {},
     "output_type": "execute_result"
    }
   ],
   "source": [
    "A[3] -= A[4]\n",
    "tmp = copy.deepcopy(A[0])\n",
    "A[0] = A[1]\n",
    "A[1] = tmp\n",
    "A"
   ]
  },
  {
   "cell_type": "code",
   "execution_count": 29,
   "id": "f976e15c",
   "metadata": {},
   "outputs": [
    {
     "data": {
      "text/plain": [
       "array([[1, 0, 1, 0, 0],\n",
       "       [0, 1, 0, 1, 0],\n",
       "       [0, 0, 1, 0, 0],\n",
       "       [0, 0, 0, 1, 0],\n",
       "       [0, 0, 0, 0, 1]])"
      ]
     },
     "execution_count": 29,
     "metadata": {},
     "output_type": "execute_result"
    }
   ],
   "source": [
    "A[2] -= A[1]\n",
    "A[2] += A[3]\n",
    "A"
   ]
  },
  {
   "cell_type": "code",
   "execution_count": 30,
   "id": "31ed2c2d",
   "metadata": {},
   "outputs": [
    {
     "data": {
      "text/plain": [
       "array([[1, 0, 0, 0, 0],\n",
       "       [0, 1, 0, 0, 0],\n",
       "       [0, 0, 1, 0, 0],\n",
       "       [0, 0, 0, 1, 0],\n",
       "       [0, 0, 0, 0, 1]])"
      ]
     },
     "execution_count": 30,
     "metadata": {},
     "output_type": "execute_result"
    }
   ],
   "source": [
    "A[0] -= A[2]\n",
    "A[1] -= A[3]\n",
    "A"
   ]
  },
  {
   "cell_type": "code",
   "execution_count": 31,
   "id": "9df32006",
   "metadata": {},
   "outputs": [
    {
     "data": {
      "text/plain": [
       "array([[ 0.33333333, -0.2       ,  0.26666667],\n",
       "       [ 0.        ,  0.4       , -0.2       ],\n",
       "       [-0.66666667,  0.2       ,  0.06666667]])"
      ]
     },
     "execution_count": 31,
     "metadata": {},
     "output_type": "execute_result"
    }
   ],
   "source": [
    "A = np.array([ [1, 1, -1], [2, 3, 1], [4, 1, 2] ])\n",
    "np.linalg.inv(A)"
   ]
  },
  {
   "cell_type": "code",
   "execution_count": 38,
   "id": "603239ba",
   "metadata": {},
   "outputs": [
    {
     "data": {
      "text/plain": [
       "[[Fraction(1, 3), Fraction(-1, 5), Fraction(4, 15)],\n",
       " [Fraction(0, 1), Fraction(2, 5), Fraction(-1, 5)],\n",
       " [Fraction(-2, 3), Fraction(1, 5), Fraction(1, 15)]]"
      ]
     },
     "execution_count": 38,
     "metadata": {},
     "output_type": "execute_result"
    }
   ],
   "source": [
    "[[fractions.Fraction.from_float(elem).limit_denominator(1000) for elem in row] for row in np.linalg.inv(A)]"
   ]
  },
  {
   "cell_type": "code",
   "execution_count": null,
   "id": "7a90aac5",
   "metadata": {},
   "outputs": [],
   "source": []
  }
 ],
 "metadata": {
  "kernelspec": {
   "display_name": "Python 3 (ipykernel)",
   "language": "python",
   "name": "python3"
  },
  "language_info": {
   "codemirror_mode": {
    "name": "ipython",
    "version": 3
   },
   "file_extension": ".py",
   "mimetype": "text/x-python",
   "name": "python",
   "nbconvert_exporter": "python",
   "pygments_lexer": "ipython3",
   "version": "3.9.12"
  }
 },
 "nbformat": 4,
 "nbformat_minor": 5
}
