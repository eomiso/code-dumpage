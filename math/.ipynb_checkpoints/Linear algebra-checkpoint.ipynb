{
 "cells": [
  {
   "cell_type": "code",
   "execution_count": 16,
   "id": "b3a3a843",
   "metadata": {},
   "outputs": [
    {
     "name": "stdout",
     "output_type": "stream",
     "text": [
      "A: \n",
      "array([[ 7,  3, -1],\n",
      "       [ 3,  8,  1],\n",
      "       [-1,  1,  4],\n",
      "       [ 2, -4, -1]])\n",
      "P: \n",
      "array([[1., 0., 0., 0.],\n",
      "       [0., 1., 0., 0.],\n",
      "       [0., 0., 1., 0.],\n",
      "       [0., 0., 0., 1.]])\n",
      "L: \n",
      "array([[ 1.        ,  0.        ,  0.        ],\n",
      "       [ 0.42857143,  1.        ,  0.        ],\n",
      "       [-0.14285714,  0.21276596,  1.        ],\n",
      "       [ 0.28571429, -0.72340426,  0.08982036]])\n",
      "U: \n",
      "array([[ 7.        ,  3.        , -1.        ],\n",
      "       [ 0.        ,  6.71428571,  1.42857143],\n",
      "       [ 0.        ,  0.        ,  3.55319149]])\n"
     ]
    }
   ],
   "source": [
    "# LU Decomposition\n",
    "\n",
    "import pprint\n",
    "import numpy as np\n",
    "import scipy\n",
    "\n",
    "A = np.array([ [7, 3, -1], [3, 8, 1], [-1, 1, 4], [2, -4, -1] ])\n",
    "\n",
    "P, L, U = scipy.linalg.lu(A)\n",
    "\n",
    "print(\"A: \")\n",
    "pprint.pprint(A)\n",
    "\n",
    "print(\"P: \")\n",
    "pprint.pprint(P)\n",
    "\n",
    "print(\"L: \")\n",
    "pprint.pprint(L)\n",
    "\n",
    "print(\"U: \")\n",
    "pprint.pprint(U)\n"
   ]
  },
  {
   "cell_type": "code",
   "execution_count": 75,
   "id": "039982ed",
   "metadata": {},
   "outputs": [],
   "source": [
    "def mult_matrix(M, N):\n",
    "    \"\"\"Multiply square matrices of same dimension M and N\"\"\"\n",
    "    assert len(M[0]) == len(N)\n",
    "    # Converts N into a list of tuples of columns (You have to save them in the memory)\n",
    "    tuple_N = list(zip(*N))\n",
    "    \n",
    "    # Nested list comprehension to calculate matrix multiplication                                                                                                                                                                                     \n",
    "    return [[sum(el_m * el_n for el_m, el_n in zip(row_m, col_n)) for col_n in tuple_N] for row_m in M]\n",
    "\n",
    "M = [[1, 2], [-1, 2]]\n",
    "N = [[3, 2]]"
   ]
  },
  {
   "cell_type": "code",
   "execution_count": 76,
   "id": "e7cdd0e2",
   "metadata": {},
   "outputs": [
    {
     "ename": "AssertionError",
     "evalue": "",
     "output_type": "error",
     "traceback": [
      "\u001b[0;31m---------------------------------------------------------------------------\u001b[0m",
      "\u001b[0;31mAssertionError\u001b[0m                            Traceback (most recent call last)",
      "Input \u001b[0;32mIn [76]\u001b[0m, in \u001b[0;36m<cell line: 1>\u001b[0;34m()\u001b[0m\n\u001b[0;32m----> 1\u001b[0m \u001b[43mmult_matrix\u001b[49m\u001b[43m(\u001b[49m\u001b[43mM\u001b[49m\u001b[43m,\u001b[49m\u001b[43m \u001b[49m\u001b[43mN\u001b[49m\u001b[43m)\u001b[49m\n",
      "Input \u001b[0;32mIn [75]\u001b[0m, in \u001b[0;36mmult_matrix\u001b[0;34m(M, N)\u001b[0m\n\u001b[1;32m      1\u001b[0m \u001b[38;5;28;01mdef\u001b[39;00m \u001b[38;5;21mmult_matrix\u001b[39m(M, N):\n\u001b[1;32m      2\u001b[0m     \u001b[38;5;124;03m\"\"\"Multiply square matrices of same dimension M and N\"\"\"\u001b[39;00m\n\u001b[0;32m----> 3\u001b[0m     \u001b[38;5;28;01massert\u001b[39;00m \u001b[38;5;28mlen\u001b[39m(M[\u001b[38;5;241m0\u001b[39m]) \u001b[38;5;241m==\u001b[39m \u001b[38;5;28mlen\u001b[39m(N)\n\u001b[1;32m      4\u001b[0m     \u001b[38;5;66;03m# Converts N into a list of tuples of columns \u001b[39;00m\n\u001b[1;32m      5\u001b[0m     tuple_N \u001b[38;5;241m=\u001b[39m \u001b[38;5;28mlist\u001b[39m(\u001b[38;5;28mzip\u001b[39m(\u001b[38;5;241m*\u001b[39mN))\n",
      "\u001b[0;31mAssertionError\u001b[0m: "
     ]
    }
   ],
   "source": [
    "mult_matrix(M, N)"
   ]
  },
  {
   "cell_type": "code",
   "execution_count": null,
   "id": "72e5b678",
   "metadata": {},
   "outputs": [],
   "source": []
  }
 ],
 "metadata": {
  "kernelspec": {
   "display_name": "Python 3 (ipykernel)",
   "language": "python",
   "name": "python3"
  },
  "language_info": {
   "codemirror_mode": {
    "name": "ipython",
    "version": 3
   },
   "file_extension": ".py",
   "mimetype": "text/x-python",
   "name": "python",
   "nbconvert_exporter": "python",
   "pygments_lexer": "ipython3",
   "version": "3.9.12"
  }
 },
 "nbformat": 4,
 "nbformat_minor": 5
}
