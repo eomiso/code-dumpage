{
 "cells": [
  {
   "cell_type": "code",
   "execution_count": 2,
   "id": "e0069dac-a4e5-41b5-94ce-e2b9acf914fa",
   "metadata": {},
   "outputs": [],
   "source": [
    "import torch\n",
    "import numpy"
   ]
  },
  {
   "cell_type": "code",
   "execution_count": 5,
   "id": "1aa492a3-a105-404f-8a88-75c13109fce3",
   "metadata": {},
   "outputs": [
    {
     "name": "stdout",
     "output_type": "stream",
     "text": [
      "1.10.2\n",
      "1.21.2\n"
     ]
    }
   ],
   "source": [
    "print(torch.__version__)\n",
    "print(numpy.__version__)"
   ]
  },
  {
   "cell_type": "code",
   "execution_count": 11,
   "id": "0973db56-767e-44f0-a0a8-e9ccd9bb4230",
   "metadata": {},
   "outputs": [
    {
     "name": "stdout",
     "output_type": "stream",
     "text": [
      "tensor([[ 1.,  4.,  2.],\n",
      "        [ 3.,  1.,  1.],\n",
      "        [-2.,  2.,  3.]])\n"
     ]
    },
    {
     "data": {
      "text/plain": [
       "tensor(-27.)"
      ]
     },
     "execution_count": 11,
     "metadata": {},
     "output_type": "execute_result"
    }
   ],
   "source": [
    "a = torch.tensor([[1, 4, 2], [3, 1, 1], [-2, 2, 3]], dtype=torch.float32)\n",
    "print(a)\n",
    "torch.linalg.det(a)"
   ]
  },
  {
   "cell_type": "code",
   "execution_count": 21,
   "id": "1ebaa48c-c3e2-4994-b487-c571fbbe05f3",
   "metadata": {},
   "outputs": [
    {
     "name": "stdout",
     "output_type": "stream",
     "text": [
      "tensor([[11., 12., 13., 14.],\n",
      "        [21., 22., 23., 24.],\n",
      "        [31., 32., 33., 34.],\n",
      "        [41., 42., 43., 44.]], dtype=torch.float64)\n",
      "tensor(0., dtype=torch.float64)\n"
     ]
    }
   ],
   "source": [
    "a = torch.tensor([[11, 12, 13, 14], \n",
    "                  [21, 22, 23, 24], \n",
    "                  [31, 32, 33, 34], \n",
    "                  [41, 42, 43, 44]], dtype=torch.float64)\n",
    "print(a)\n",
    "res = torch.linalg.det(a)\n",
    "print(torch.round(res))"
   ]
  },
  {
   "cell_type": "code",
   "execution_count": 4,
   "id": "28028505-c128-41a6-9d87-d2a81094ec3b",
   "metadata": {},
   "outputs": [
    {
     "name": "stdout",
     "output_type": "stream",
     "text": [
      "tensor([[ 1.,  4.,  2.],\n",
      "        [ 3.,  1.,  1.],\n",
      "        [-2.,  2.,  3.]], dtype=torch.float64)\n",
      "tensor(-27.0000, dtype=torch.float64)\n"
     ]
    }
   ],
   "source": [
    "a = torch.tensor([[1, 4, 2], \n",
    "                  [3, 1, 1], \n",
    "                  [-2, 2, 3]], dtype=torch.float64)\n",
    "print(a)\n",
    "res = torch.linalg.det(a)\n",
    "print(res)"
   ]
  },
  {
   "cell_type": "code",
   "execution_count": 5,
   "id": "d7916e3f-6fe0-4e84-84d7-6b454750fb09",
   "metadata": {},
   "outputs": [
    {
     "name": "stdout",
     "output_type": "stream",
     "text": [
      "tensor([[0., 1., 1., 1.],\n",
      "        [2., 0., 1., 1.],\n",
      "        [2., 2., 0., 1.],\n",
      "        [2., 2., 2., 0.]], dtype=torch.float64)\n",
      "tensor(-14., dtype=torch.float64)\n"
     ]
    }
   ],
   "source": [
    "a = torch.tensor([[0, 1, 1, 1], \n",
    "                  [2, 0, 1, 1], \n",
    "                  [2, 2, 0, 1], \n",
    "                  [2, 2, 2, 0]], dtype=torch.float64)\n",
    "print(a)\n",
    "res = torch.linalg.det(a)\n",
    "print(torch.round(res))\n"
   ]
  },
  {
   "cell_type": "code",
   "execution_count": 7,
   "id": "52788231-d385-4341-b1d4-e1edf91fbe6f",
   "metadata": {},
   "outputs": [
    {
     "data": {
      "text/plain": [
       "tensor([-12.5714,   0.1429,   8.0000], dtype=torch.float64)"
      ]
     },
     "execution_count": 7,
     "metadata": {},
     "output_type": "execute_result"
    }
   ],
   "source": [
    "# solve linear equation\n",
    "A = torch.tensor([[1, 4, 2],\n",
    "                  [3, -2, 5],\n",
    "                  [-2, -1, -3]], dtype=torch.float64)\n",
    "B = torch.tensor([4, 2, 1], dtype=torch.float64)\n",
    "torch.linalg.solve(A, B)"
   ]
  },
  {
   "cell_type": "code",
   "execution_count": null,
   "id": "7d21bc6f-66f8-4be5-8ea2-15dfe9067391",
   "metadata": {},
   "outputs": [],
   "source": []
  }
 ],
 "metadata": {
  "kernelspec": {
   "display_name": "Python 3",
   "language": "python",
   "name": "python3"
  },
  "language_info": {
   "codemirror_mode": {
    "name": "ipython",
    "version": 3
   },
   "file_extension": ".py",
   "mimetype": "text/x-python",
   "name": "python",
   "nbconvert_exporter": "python",
   "pygments_lexer": "ipython3",
   "version": "3.7.11"
  }
 },
 "nbformat": 4,
 "nbformat_minor": 5
}
